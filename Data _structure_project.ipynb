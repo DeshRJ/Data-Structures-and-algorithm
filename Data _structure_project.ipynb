{
 "cells": [
  {
   "cell_type": "markdown",
   "id": "e19dba8a",
   "metadata": {},
   "source": [
    "# Problem Solving Template (change the title)\n",
    "\n",
    "_To learn how to use this template, check out the course [\"Data Structures and Algorithms in Python\"](https://jovian.ai/learn/data-structures-and-algorithms-in-python)._\n",
    "\n",
    "\n"
   ]
  },
  {
   "cell_type": "markdown",
   "id": "39628dbc",
   "metadata": {},
   "source": [
    "## How to run the code and save your work\n",
    "\n",
    "The recommended way to run this notebook is to click the \"Run\" button at the top of this page, and select \"Run on Binder\". This will run the notebook on [mybinder.org](https://mybinder.org), a free online service for running Jupyter notebooks. \n",
    "\n",
    "This tutorial is an executable [Jupyter notebook](https://jupyter.org). You can _run_ this tutorial and experiment with the code examples in a couple of ways: *using free online resources* (recommended) or *on your computer*.\n",
    "\n",
    "#### Option 1: Running using free online resources (1-click, recommended)\n",
    "\n",
    "The easiest way to start executing the code is to click the **Run** button at the top of this page and select **Run on Binder**. You can also select \"Run on Colab\" or \"Run on Kaggle\", but you'll need to create an account on [Google Colab](https://colab.research.google.com) or [Kaggle](https://kaggle.com) to use these platforms.\n",
    "\n",
    "\n",
    "#### Option 2: Running on your computer locally\n",
    "\n",
    "To run the code on your computer locally, you'll need to set up [Python](https://www.python.org), download the notebook and install the required libraries. We recommend using the [Conda](https://docs.conda.io/projects/conda/en/latest/user-guide/install/) distribution of Python. Click the **Run** button at the top of this page, select the **Run Locally** option, and follow the instructions.\n",
    "\n",
    "#### Saving your work\n",
    "\n",
    "Before staring the assignment, let's save a snapshot of the assignment to your [Jovian](https://jovian.ai) profile, so that you can access it later, and continue your work."
   ]
  },
  {
   "cell_type": "code",
   "execution_count": 6,
   "id": "6b2748fd",
   "metadata": {},
   "outputs": [],
   "source": [
    "project_name = 'data-structures-course-python' # give it an appropriate name"
   ]
  },
  {
   "cell_type": "code",
   "execution_count": 7,
   "id": "6f139738",
   "metadata": {},
   "outputs": [],
   "source": [
    "!pip install jovian --upgrade --quiet"
   ]
  },
  {
   "cell_type": "code",
   "execution_count": 8,
   "id": "a02cb17d",
   "metadata": {},
   "outputs": [],
   "source": [
    "import jovian"
   ]
  },
  {
   "cell_type": "code",
   "execution_count": 9,
   "id": "eeaac649",
   "metadata": {},
   "outputs": [
    {
     "data": {
      "application/javascript": [
       "window.require && require([\"base/js/namespace\"],function(Jupyter){Jupyter.notebook.save_checkpoint()})"
      ],
      "text/plain": [
       "<IPython.core.display.Javascript object>"
      ]
     },
     "metadata": {},
     "output_type": "display_data"
    },
    {
     "name": "stdout",
     "output_type": "stream",
     "text": [
      "[jovian] Updating notebook \"rohan-deshpande/data-structures-course-python\" on https://jovian.ai\u001b[0m\n",
      "[jovian] Committed successfully! https://jovian.ai/rohan-deshpande/data-structures-course-python\u001b[0m\n"
     ]
    },
    {
     "data": {
      "text/plain": [
       "'https://jovian.ai/rohan-deshpande/data-structures-course-python'"
      ]
     },
     "execution_count": 9,
     "metadata": {},
     "output_type": "execute_result"
    }
   ],
   "source": [
    "jovian.commit(project=project_name)"
   ]
  },
  {
   "cell_type": "markdown",
   "id": "be1a43a6",
   "metadata": {},
   "source": [
    "## Problem Statement\n",
    "\n",
    "\n",
    "> Best Time to Buy and Sell Stock You are given an array prices where prices[i] is the price of a given stock\n",
    "on the ith day.\n",
    "\n",
    "Find the maximum pro\n",
    "\n",
    "t you can achieve. You may complete as many transactions as you like (i.e., buy one and\n",
    "\n",
    "sell one share of the stock multiple times).\n",
    "Note: You may not engage in multiple transactions simultaneously (i.e., you must sell the stock before you buy\n",
    "again).\n",
    "\n",
    "Example 1:\n",
    "Input: prices = [7,1,5,3,6,4] Output: 7 Explanation: Buy on day 2 (price = 1) and sell on day 3 (price = 5), pro\n",
    "t = 5-1\n",
    "\n",
    "= 4. Then buy on day 4 (price = 3) and sell on day 5 (price = 6), pro\n",
    "\n",
    "t = 6-3 = 3.\n",
    "\n",
    "Example 2:\n",
    "Input: prices = [1,2,3,4,5] Output: 4 Explanation: Buy on day 1 (price = 1) and sell on day 5 (price = 5), pro\n",
    "t = 5-1 =\n",
    "4. Note that you cannot buy on day 1, buy on day 2 and sell them later, as you are engaging multiple transactions\n",
    "at the same time. You must sell before buying again.\n",
    "Example 3:\n",
    "Input: prices = [7,6,4,3,1] Output: 0 Explanation: In this case, no transaction is done, i.e., max pro\n",
    "t = 0.\n",
    "\n",
    "Constraints:\n",
    "1 <= prices.length <= 3 * 10^4\n",
    "0 <= prices[i] <= 10^4\n",
    "\n",
    "\n",
    "Source: https://leetcode.com/problems/best-time-to-buy-and-sell-stock-ii/solution/"
   ]
  },
  {
   "cell_type": "markdown",
   "id": "90b73bed",
   "metadata": {},
   "source": [
    "## The Method\n",
    "\n",
    "Here's the systematic strategy we'll apply for solving problems:\n",
    "\n",
    "1. State the problem clearly. Identify the input & output formats.\n",
    "2. Come up with some example inputs & outputs. Try to cover all edge cases.\n",
    "3. Come up with a correct solution for the problem. State it in plain English.\n",
    "4. Implement the solution and test it using example inputs. Fix bugs, if any.\n",
    "5. Analyze the algorithm's complexity and identify inefficiencies, if any.\n",
    "6. Apply the right technique to overcome the inefficiency. Repeat steps 3 to 6.\n",
    "\n",
    "This approach is explained in detail in [Lesson 1](https://jovian.ai/learn/data-structures-and-algorithms-in-python/lesson/lesson-1-binary-search-linked-lists-and-complexity) of the course. Let's apply this approach step-by-step."
   ]
  },
  {
   "cell_type": "markdown",
   "id": "039a364c",
   "metadata": {},
   "source": [
    "## Solution\n",
    "\n",
    "\n",
    "### 1. State the problem clearly. Identify the input & output formats.\n",
    "\n",
    "While this problem is stated clearly enough, it's always useful to try and express in your own words, in a way that makes it most clear for you. \n",
    "\n",
    "\n",
    "> 1. State the problem clearly. Identify the input & output formats. While this problem is stated clearly enough, it's\n",
    "always useful to try and express in your own words, in a way that makes it most clear for you.\n",
    "\n",
    "\n",
    "Problem\n",
    "\n",
    "The problem input a array stock[i]( the stock of the i th day, the limit maximum count of array is smaller then 3 *\n",
    "10^4 , and limit maximum value is smaller then 10^4 ). Then outout the maximum pro\n",
    "\n",
    "t(inside one day, just can\n",
    "buy or sell one time. ) For example input array stock[7,3,5,2,6], if buy in day two, the price is 3,then sell in day 3,\n",
    "\n",
    "then re-buy in day 4, the price is 2, then sell in day 5, the price is 6. This will get the maximum pro\n",
    "\n",
    "t, (5-3)+(6-2) = 6.\n",
    "\n",
    "so the max pro\n",
    "t is 6.\n",
    "\n",
    "<br/>\n",
    "\n",
    "\n",
    "**Input**\n",
    "\n",
    "1. stock[i] ( the array of the price in these day)\n",
    "\n",
    "\n",
    "(add more if required)\n",
    "\n",
    "\n",
    "**Output**\n",
    "\n",
    "1. maxcount , (The maximum profit of the buy and sell combination in Stock[i] )\n",
    "\n",
    "\n",
    "(add more if required)\n",
    "\n",
    "<br/>\n",
    "\n",
    "Based on the above, we can now create a signature of our function:"
   ]
  },
  {
   "cell_type": "code",
   "execution_count": 10,
   "id": "b9deb207",
   "metadata": {},
   "outputs": [],
   "source": [
    "# Create a function signature here. The body of the function can contain a single statement: pass"
   ]
  },
  {
   "cell_type": "markdown",
   "id": "c131b807",
   "metadata": {},
   "source": [
    "Save and upload your work before continuing."
   ]
  },
  {
   "cell_type": "code",
   "execution_count": 11,
   "id": "02fcfe0e",
   "metadata": {},
   "outputs": [],
   "source": [
    "import jovian"
   ]
  },
  {
   "cell_type": "code",
   "execution_count": 12,
   "id": "bf0a8033",
   "metadata": {},
   "outputs": [
    {
     "data": {
      "application/javascript": [
       "window.require && require([\"base/js/namespace\"],function(Jupyter){Jupyter.notebook.save_checkpoint()})"
      ],
      "text/plain": [
       "<IPython.core.display.Javascript object>"
      ]
     },
     "metadata": {},
     "output_type": "display_data"
    },
    {
     "name": "stdout",
     "output_type": "stream",
     "text": [
      "[jovian] Updating notebook \"rohan-deshpande/data-structures-course-python\" on https://jovian.ai\u001b[0m\n",
      "[jovian] Committed successfully! https://jovian.ai/rohan-deshpande/data-structures-course-python\u001b[0m\n"
     ]
    },
    {
     "data": {
      "text/plain": [
       "'https://jovian.ai/rohan-deshpande/data-structures-course-python'"
      ]
     },
     "execution_count": 12,
     "metadata": {},
     "output_type": "execute_result"
    }
   ],
   "source": [
    "jovian.commit()"
   ]
  },
  {
   "cell_type": "markdown",
   "id": "2529ca65",
   "metadata": {},
   "source": [
    "### 2. Come up with some example inputs & outputs. Try to cover all edge cases.\n",
    "\n",
    "Our function should be able to handle any set of valid inputs we pass into it. Here's a list of some possible variations we might encounter:\n",
    "\n",
    "General case An empty list A list containing just one element The list contains repeating numbers The case just\n",
    "have Downward trend The case just have Upward trend Zero-list The case have multiple valleys and peaks and\n",
    "rest\n",
    "day is higher second day, the last day is low the previous day The day no any increase and decrease We'll express\n",
    "our test cases as dictionaries, to test them easily. Each dictionary will contain 2 keys: input (a dictionary itself\n",
    "containing one key for each argument to the function and output (the expected result from the function).\n",
    "\n",
    "We'll express our test cases as dictionaries, to test them easily. Each dictionary will contain 2 keys: `input` (a dictionary itself containing one key for each argument to the function and `output` (the expected result from the function). "
   ]
  },
  {
   "cell_type": "code",
   "execution_count": 13,
   "id": "3cfe66e6",
   "metadata": {},
   "outputs": [],
   "source": [
    "test0 = {\n",
    "    'input': {\n",
    "        'stock': [2, 6, 7, 8, 9, 3, 5, 6]\n",
    "    },\n",
    "    'output': 10\n",
    "}"
   ]
  },
  {
   "cell_type": "code",
   "execution_count": 14,
   "id": "c42bb23c",
   "metadata": {},
   "outputs": [],
   "source": [
    "test1 = {\n",
    "    'input': {\n",
    "          'stock': []\n",
    "       },\n",
    "     'output':0\n",
    "     }"
   ]
  },
  {
   "cell_type": "code",
   "execution_count": 15,
   "id": "2f5c395b",
   "metadata": {},
   "outputs": [],
   "source": [
    "test2 = {\n",
    "      'input': {\n",
    "      'stock': [6]\n",
    "    },\n",
    "        'output':0\n",
    "}"
   ]
  },
  {
   "cell_type": "code",
   "execution_count": 16,
   "id": "4c247749",
   "metadata": {},
   "outputs": [],
   "source": [
    "test3 = {\n",
    "'input': {\n",
    "'stock': [3, 6, 6, 6, 8, 8, 5, 6]\n",
    "},\n",
    "'output':6\n",
    "}"
   ]
  },
  {
   "cell_type": "code",
   "execution_count": 17,
   "id": "fe84d8c0",
   "metadata": {},
   "outputs": [],
   "source": [
    "test4 = {\n",
    "'input': {\n",
    "'stock': [7, 5, 4, 2]\n",
    "},\n",
    "'output':0\n",
    "}"
   ]
  },
  {
   "cell_type": "code",
   "execution_count": 18,
   "id": "a3d41aa6",
   "metadata": {},
   "outputs": [],
   "source": [
    "test5 = {\n",
    "      'input': {\n",
    "         'stock': [2, 4, 5, 7]\n",
    "       },\n",
    "   'output':5\n",
    "}"
   ]
  },
  {
   "cell_type": "code",
   "execution_count": 19,
   "id": "b234aeb5",
   "metadata": {},
   "outputs": [],
   "source": [
    "test6 = {\n",
    "'input': {\n",
    "'stock': [0, 0, 0, 0, 0, 0]\n",
    "},\n",
    "'output':0\n",
    "}"
   ]
  },
  {
   "cell_type": "code",
   "execution_count": 20,
   "id": "9821f5bf",
   "metadata": {},
   "outputs": [],
   "source": [
    "test7 = {\n",
    "'input': {\n",
    "'stock': [ 7, 1, 6, 2, 4, 5 , 3, 6, 3]\n",
    "},\n",
    "'output':11\n",
    "}"
   ]
  },
  {
   "cell_type": "code",
   "execution_count": 21,
   "id": "43a9f4ff",
   "metadata": {},
   "outputs": [],
   "source": [
    "test8 = {\n",
    "'input': {\n",
    "'stock': [ 3, 3, 3, 3, 3, 3]\n",
    "},\n",
    "\n",
    "'output':0\n",
    "}"
   ]
  },
  {
   "cell_type": "code",
   "execution_count": null,
   "id": "642509f2",
   "metadata": {},
   "outputs": [],
   "source": []
  },
  {
   "cell_type": "markdown",
   "id": "61ab012b",
   "metadata": {},
   "source": [
    "Create one test case for each of the scenarios listed above. We'll store our test cases in an array called `tests`."
   ]
  },
  {
   "cell_type": "code",
   "execution_count": 22,
   "id": "929fa975",
   "metadata": {},
   "outputs": [],
   "source": [
    "tests = [test0, test1, test2, test3, test4, test5, test6, test7, test8]"
   ]
  },
  {
   "cell_type": "code",
   "execution_count": 23,
   "id": "3161aa1e",
   "metadata": {},
   "outputs": [
    {
     "data": {
      "text/plain": [
       "[{'input': {'stock': [2, 6, 7, 8, 9, 3, 5, 6]}, 'output': 10},\n",
       " {'input': {'stock': []}, 'output': 0},\n",
       " {'input': {'stock': [6]}, 'output': 0},\n",
       " {'input': {'stock': [3, 6, 6, 6, 8, 8, 5, 6]}, 'output': 6},\n",
       " {'input': {'stock': [7, 5, 4, 2]}, 'output': 0},\n",
       " {'input': {'stock': [2, 4, 5, 7]}, 'output': 5},\n",
       " {'input': {'stock': [0, 0, 0, 0, 0, 0]}, 'output': 0},\n",
       " {'input': {'stock': [7, 1, 6, 2, 4, 5, 3, 6, 3]}, 'output': 11},\n",
       " {'input': {'stock': [3, 3, 3, 3, 3, 3]}, 'output': 0}]"
      ]
     },
     "execution_count": 23,
     "metadata": {},
     "output_type": "execute_result"
    }
   ],
   "source": [
    "tests"
   ]
  },
  {
   "cell_type": "code",
   "execution_count": null,
   "id": "6c714266",
   "metadata": {},
   "outputs": [],
   "source": [
    "# add more test cases"
   ]
  },
  {
   "cell_type": "code",
   "execution_count": null,
   "id": "0b81edcd",
   "metadata": {},
   "outputs": [],
   "source": []
  },
  {
   "cell_type": "markdown",
   "id": "bbe25e04",
   "metadata": {},
   "source": [
    "### 3. Come up with a correct solution for the problem. State it in plain English.\n",
    "\n",
    "Our first goal should always be to come up with a _correct_ solution to the problem, which may not necessarily be the most _efficient_ solution. Come with a correct solution and explain it in simple words below:\n",
    "\n",
    "\n",
    "Brute Force Approach If we want to find out the maximum profit combination inside the stock array.First,the most\n",
    "direct way is using the Brute Force Approach to search all the different profit combination and compare which profit of the combination is maximum profit\n",
    "\n",
    "We can using the loop and recursion to achieve the Brute Force.\n",
    "\n",
    "1. 1.We can input the stock array, and then counting number 0 (because array is using 0 to count the first number.),we can use the counting number to compare all the number inside the array.\n",
    "2. Then we can using \"if\" statement to check that is it already check all the number, if yes, just return 0 to end this\n",
    "3. Setting the variable (maxcount) for using to save the maximum profit\n",
    "4. Then use the counting number 0 to setting two for loop to campare the two number , start from compare array[0] and array[1], the first number and next number.\n",
    "5. if the(first number ) smaller then the (next number), this is meaning buy in the day of the (first number), then sell in the day of the (next number) have a profit, so using the (next number) minus the (first number) to calculate the profit.\n",
    "6. But the array maybe is not just two number(two day), so we need to add the max profit about the array number after the (next number), so we need to using recursion to re-call the function, but given the (next number) + 1 for the counting number, this will make the function start from array(next number +1) to calculate and compare.\n",
    "7. when we calculate the profit of differnt combination inside the each recursion, we need to find out the most profit one to transfer the result to upper level of recursion ,(to sum up the most profit one in this level of recursion and the profit of upper recursion. So we compare if (profit) > (maxprofit), put the (profit) become the (maxprofit).\n",
    "\n",
    "8. Finally when the (maxprofit) transfer to the top level, we still need to compare each (maxprofit) is the real maximum profit,first we already set the (maxcount) is 0 in the step 3, so we will using if (maxprofit > maxcount),to compare each (maxprofit), which one is the maximum, then put the number of ( maxprofit) to the (maxcount).\n",
    "\n",
    "9. Finally return the (maxcount), this is thefinal maximum profit of the stock array. For example: [7,1,5,3,6,4] 1. array[0] is 7, array [1] is 1, so 7>1, skip. 2. 7>5,skip,7>3,skip,7>6,skip,7>4,skip 3. 1<5, profit is (5-1) + the maxprofit of the number after 5, so run the recursion, start from 3. 3.1. 3<6 profit is (6-3)+ the maxprofitof the number after 6,so run the recursion, start from 4. 3.1.1. 4 is end the loop, return to upper level. 3.2 3<4 3.2.1 after 4, is the end the loop, return to upper level. 4. 1<3 . . . .\n",
    "***After calculate all combination start from 1 , then will calculate start from 5, then 3, then 6, then 4. Final\n",
    "compare each (maxprofit) to get a maximum profit (maxcount)\n",
    "(add more steps if required)\n",
    "\n",
    "\n",
    "Let's save and upload our work before continuing.\n",
    "\n",
    "\n"
   ]
  },
  {
   "cell_type": "code",
   "execution_count": 24,
   "id": "04191afd",
   "metadata": {},
   "outputs": [
    {
     "data": {
      "application/javascript": [
       "window.require && require([\"base/js/namespace\"],function(Jupyter){Jupyter.notebook.save_checkpoint()})"
      ],
      "text/plain": [
       "<IPython.core.display.Javascript object>"
      ]
     },
     "metadata": {},
     "output_type": "display_data"
    },
    {
     "name": "stdout",
     "output_type": "stream",
     "text": [
      "[jovian] Updating notebook \"rohan-deshpande/data-structures-course-python\" on https://jovian.ai\u001b[0m\n",
      "[jovian] Committed successfully! https://jovian.ai/rohan-deshpande/data-structures-course-python\u001b[0m\n"
     ]
    },
    {
     "data": {
      "text/plain": [
       "'https://jovian.ai/rohan-deshpande/data-structures-course-python'"
      ]
     },
     "execution_count": 24,
     "metadata": {},
     "output_type": "execute_result"
    }
   ],
   "source": [
    "jovian.commit()"
   ]
  },
  {
   "cell_type": "markdown",
   "id": "73290fc2",
   "metadata": {},
   "source": [
    "###  4. Implement the solution and test it using example inputs. Fix bugs, if any."
   ]
  },
  {
   "cell_type": "code",
   "execution_count": 25,
   "id": "8010e123",
   "metadata": {},
   "outputs": [],
   "source": [
    "def bruteforce_cal(stock,count):\n",
    "    if (count >= len(stock)):\n",
    "        return 0\n",
    "    maxcount = 0\n",
    "    for i in range(count, len(stock)):\n",
    "        maxprofit = 0\n",
    "        for j in range(i+1, len(stock)):\n",
    "            if (stock[i] < stock[j]):\n",
    "                profit = bruteforce_cal(stock, j + 1) + stock[j] - stock[i]\n",
    "                if (profit > maxprofit):\n",
    "                    maxprofit = profit\n",
    "        if (maxprofit > maxcount):\n",
    "            maxcount = maxprofit\n",
    "    return maxcount"
   ]
  },
  {
   "cell_type": "code",
   "execution_count": 27,
   "id": "0ce23844",
   "metadata": {},
   "outputs": [],
   "source": [
    "def stock_finder(stock):\n",
    "    result = bruteforce_cal(stock,0)\n",
    "    return result"
   ]
  },
  {
   "cell_type": "code",
   "execution_count": null,
   "id": "93b23104",
   "metadata": {},
   "outputs": [],
   "source": []
  },
  {
   "cell_type": "code",
   "execution_count": null,
   "id": "e5ecf7a1",
   "metadata": {},
   "outputs": [],
   "source": []
  },
  {
   "cell_type": "markdown",
   "id": "f7b741d5",
   "metadata": {},
   "source": [
    "We can test the function by passing the input to it directly or by using the `evaluate_test_case` function from `jovian`."
   ]
  },
  {
   "cell_type": "code",
   "execution_count": 28,
   "id": "325b43b0",
   "metadata": {},
   "outputs": [],
   "source": [
    "from jovian.pythondsa import evaluate_test_case"
   ]
  },
  {
   "cell_type": "code",
   "execution_count": null,
   "id": "4011e0fe",
   "metadata": {},
   "outputs": [],
   "source": []
  },
  {
   "cell_type": "markdown",
   "id": "e76685a2",
   "metadata": {},
   "source": [
    "Evaluate your function against all the test cases together using the `evaluate_test_cases` (plural) function from `jovian`."
   ]
  },
  {
   "cell_type": "code",
   "execution_count": 29,
   "id": "27655730",
   "metadata": {},
   "outputs": [],
   "source": [
    "from jovian.pythondsa import evaluate_test_cases"
   ]
  },
  {
   "cell_type": "code",
   "execution_count": 30,
   "id": "ab488ae4",
   "metadata": {},
   "outputs": [
    {
     "name": "stdout",
     "output_type": "stream",
     "text": [
      "\n",
      "\u001b[1mTEST CASE #0\u001b[0m\n",
      "\n",
      "Input:\n",
      "{'stock': [2, 6, 7, 8, 9, 3, 5, 6]}\n",
      "\n",
      "Expected Output:\n",
      "10\n",
      "\n",
      "\n",
      "Actual Output:\n",
      "10\n",
      "\n",
      "Execution Time:\n",
      "0.058 ms\n",
      "\n",
      "Test Result:\n",
      "\u001b[92mPASSED\u001b[0m\n",
      "\n",
      "\n",
      "\u001b[1mTEST CASE #1\u001b[0m\n",
      "\n",
      "Input:\n",
      "{'stock': []}\n",
      "\n",
      "Expected Output:\n",
      "0\n",
      "\n",
      "\n",
      "Actual Output:\n",
      "0\n",
      "\n",
      "Execution Time:\n",
      "0.003 ms\n",
      "\n",
      "Test Result:\n",
      "\u001b[92mPASSED\u001b[0m\n",
      "\n",
      "\n",
      "\u001b[1mTEST CASE #2\u001b[0m\n",
      "\n",
      "Input:\n",
      "{'stock': [6]}\n",
      "\n",
      "Expected Output:\n",
      "0\n",
      "\n",
      "\n",
      "Actual Output:\n",
      "0\n",
      "\n",
      "Execution Time:\n",
      "0.004 ms\n",
      "\n",
      "Test Result:\n",
      "\u001b[92mPASSED\u001b[0m\n",
      "\n",
      "\n",
      "\u001b[1mTEST CASE #3\u001b[0m\n",
      "\n",
      "Input:\n",
      "{'stock': [3, 6, 6, 6, 8, 8, 5, 6]}\n",
      "\n",
      "Expected Output:\n",
      "6\n",
      "\n",
      "\n",
      "Actual Output:\n",
      "6\n",
      "\n",
      "Execution Time:\n",
      "0.057 ms\n",
      "\n",
      "Test Result:\n",
      "\u001b[92mPASSED\u001b[0m\n",
      "\n",
      "\n",
      "\u001b[1mTEST CASE #4\u001b[0m\n",
      "\n",
      "Input:\n",
      "{'stock': [7, 5, 4, 2]}\n",
      "\n",
      "Expected Output:\n",
      "0\n",
      "\n",
      "\n",
      "Actual Output:\n",
      "0\n",
      "\n",
      "Execution Time:\n",
      "0.006 ms\n",
      "\n",
      "Test Result:\n",
      "\u001b[92mPASSED\u001b[0m\n",
      "\n",
      "\n",
      "\u001b[1mTEST CASE #5\u001b[0m\n",
      "\n",
      "Input:\n",
      "{'stock': [2, 4, 5, 7]}\n",
      "\n",
      "Expected Output:\n",
      "5\n",
      "\n",
      "\n",
      "Actual Output:\n",
      "5\n",
      "\n",
      "Execution Time:\n",
      "0.012 ms\n",
      "\n",
      "Test Result:\n",
      "\u001b[92mPASSED\u001b[0m\n",
      "\n",
      "\n",
      "\u001b[1mTEST CASE #6\u001b[0m\n",
      "\n",
      "Input:\n",
      "{'stock': [0, 0, 0, 0, 0, 0]}\n",
      "\n",
      "Expected Output:\n",
      "0\n",
      "\n",
      "\n",
      "Actual Output:\n",
      "0\n",
      "\n",
      "Execution Time:\n",
      "0.007 ms\n",
      "\n",
      "Test Result:\n",
      "\u001b[92mPASSED\u001b[0m\n",
      "\n",
      "\n",
      "\u001b[1mTEST CASE #7\u001b[0m\n",
      "\n",
      "Input:\n",
      "{'stock': [7, 1, 6, 2, 4, 5, 3, 6, 3]}\n",
      "\n",
      "Expected Output:\n",
      "11\n",
      "\n",
      "\n",
      "Actual Output:\n",
      "11\n",
      "\n",
      "Execution Time:\n",
      "0.065 ms\n",
      "\n",
      "Test Result:\n",
      "\u001b[92mPASSED\u001b[0m\n",
      "\n",
      "\n",
      "\u001b[1mTEST CASE #8\u001b[0m\n",
      "\n",
      "Input:\n",
      "{'stock': [3, 3, 3, 3, 3, 3]}\n",
      "\n",
      "Expected Output:\n",
      "0\n",
      "\n",
      "\n",
      "Actual Output:\n",
      "0\n",
      "\n",
      "Execution Time:\n",
      "0.007 ms\n",
      "\n",
      "Test Result:\n",
      "\u001b[92mPASSED\u001b[0m\n",
      "\n",
      "\n",
      "\u001b[1mSUMMARY\u001b[0m\n",
      "\n",
      "TOTAL: 9, \u001b[92mPASSED\u001b[0m: 9, \u001b[91mFAILED\u001b[0m: 0\n"
     ]
    }
   ],
   "source": [
    "results = evaluate_test_cases(stock_finder, tests)"
   ]
  },
  {
   "cell_type": "markdown",
   "id": "b0b3658c",
   "metadata": {},
   "source": [
    "Verify that all the test cases were evaluated. We expect them all to fail, since we haven't implemented the function yet.\n",
    "\n",
    "Let's save our work before continuing."
   ]
  },
  {
   "cell_type": "code",
   "execution_count": 31,
   "id": "ccf2203e",
   "metadata": {},
   "outputs": [
    {
     "data": {
      "application/javascript": [
       "window.require && require([\"base/js/namespace\"],function(Jupyter){Jupyter.notebook.save_checkpoint()})"
      ],
      "text/plain": [
       "<IPython.core.display.Javascript object>"
      ]
     },
     "metadata": {},
     "output_type": "display_data"
    },
    {
     "name": "stdout",
     "output_type": "stream",
     "text": [
      "[jovian] Updating notebook \"rohan-deshpande/data-structures-course-python\" on https://jovian.ai\u001b[0m\n",
      "[jovian] Committed successfully! https://jovian.ai/rohan-deshpande/data-structures-course-python\u001b[0m\n"
     ]
    },
    {
     "data": {
      "text/plain": [
       "'https://jovian.ai/rohan-deshpande/data-structures-course-python'"
      ]
     },
     "execution_count": 31,
     "metadata": {},
     "output_type": "execute_result"
    }
   ],
   "source": [
    "jovian.commit()"
   ]
  },
  {
   "cell_type": "code",
   "execution_count": null,
   "id": "d39e2757",
   "metadata": {},
   "outputs": [],
   "source": []
  },
  {
   "cell_type": "markdown",
   "id": "513600c5",
   "metadata": {},
   "source": [
    "### 5. Analyze the algorithm's complexity and identify inefficiencies, if any."
   ]
  },
  {
   "cell_type": "markdown",
   "id": "2ff2184b",
   "metadata": {},
   "source": [
    "Time complexity is O(n^n).\n",
    "\n",
    "Space complexity is O(n)."
   ]
  },
  {
   "cell_type": "code",
   "execution_count": null,
   "id": "0e59e775",
   "metadata": {},
   "outputs": [],
   "source": []
  },
  {
   "cell_type": "code",
   "execution_count": null,
   "id": "ed9571c5",
   "metadata": {},
   "outputs": [],
   "source": []
  },
  {
   "cell_type": "code",
   "execution_count": 32,
   "id": "870a9b40",
   "metadata": {},
   "outputs": [
    {
     "data": {
      "application/javascript": [
       "window.require && require([\"base/js/namespace\"],function(Jupyter){Jupyter.notebook.save_checkpoint()})"
      ],
      "text/plain": [
       "<IPython.core.display.Javascript object>"
      ]
     },
     "metadata": {},
     "output_type": "display_data"
    },
    {
     "name": "stdout",
     "output_type": "stream",
     "text": [
      "[jovian] Updating notebook \"rohan-deshpande/data-structures-course-python\" on https://jovian.ai\u001b[0m\n",
      "[jovian] Committed successfully! https://jovian.ai/rohan-deshpande/data-structures-course-python\u001b[0m\n"
     ]
    },
    {
     "data": {
      "text/plain": [
       "'https://jovian.ai/rohan-deshpande/data-structures-course-python'"
      ]
     },
     "execution_count": 32,
     "metadata": {},
     "output_type": "execute_result"
    }
   ],
   "source": [
    "jovian.commit()"
   ]
  },
  {
   "cell_type": "markdown",
   "id": "e97fbd90",
   "metadata": {},
   "source": [
    "### 6. Apply the right technique to overcome the inefficiency. Repeat steps 3 to 6."
   ]
  },
  {
   "cell_type": "markdown",
   "id": "0ff30986",
   "metadata": {},
   "source": [
    "# effective Way\n",
    "When we think more about the stock array[day price], given example: [7,1,5,3,6,4] When you plot these number to\n",
    "the graph, you will see different peak and valley. We can realize it, we can just buy in each lowest point (the valley)\n",
    "and sell in highest point (the peak) sequentially by the Day, then will easily to get a maximum profit"
   ]
  },
  {
   "cell_type": "code",
   "execution_count": null,
   "id": "6ce89f90",
   "metadata": {},
   "outputs": [],
   "source": []
  },
  {
   "cell_type": "code",
   "execution_count": 33,
   "id": "b16e81c9",
   "metadata": {},
   "outputs": [
    {
     "data": {
      "application/javascript": [
       "window.require && require([\"base/js/namespace\"],function(Jupyter){Jupyter.notebook.save_checkpoint()})"
      ],
      "text/plain": [
       "<IPython.core.display.Javascript object>"
      ]
     },
     "metadata": {},
     "output_type": "display_data"
    },
    {
     "name": "stdout",
     "output_type": "stream",
     "text": [
      "[jovian] Updating notebook \"rohan-deshpande/data-structures-course-python\" on https://jovian.ai\u001b[0m\n",
      "[jovian] Committed successfully! https://jovian.ai/rohan-deshpande/data-structures-course-python\u001b[0m\n"
     ]
    },
    {
     "data": {
      "text/plain": [
       "'https://jovian.ai/rohan-deshpande/data-structures-course-python'"
      ]
     },
     "execution_count": 33,
     "metadata": {},
     "output_type": "execute_result"
    }
   ],
   "source": [
    "jovian.commit()"
   ]
  },
  {
   "cell_type": "markdown",
   "id": "3c092b77",
   "metadata": {},
   "source": [
    "### 7. Come up with a correct solution for the problem. State it in plain English.\n",
    "\n",
    "Come with the optimized correct solution and explain it in simple words below:\n",
    "\n",
    "Depending the effective Way, we can put the step like that:\n",
    "1. Create a variable called (total earn) to save the total how much money we earn, initializing to 0 first.\n",
    "\n",
    "2. Create a for loop, loop from 1 to the number before the length of stock, because this can make we can count from the second number to the end of the stock array.\n",
    "\n",
    "3. Setting the compare condition using if statement, if the (next number) of the array is bigger then previous one ,this meaning next day of the price is higher then yesterday, then we can buy on previous day and sell in that day.\n",
    "4. So using the array[this day] minus array[this day -1] to calculate the profit, and save to the (total earn).\n",
    "\n",
    "5. After looping to the end, we accumulate all the profit to (total earn).\n",
    "\n",
    "6. Then return the (total earn), this is the maximum profit.\n",
    "\n",
    "For example: [7,1,5,3,6,4]\n",
    "1. total earn = 0 1.1 1<7, total earn still = 0.\n",
    "2. 5>1, total earn = 4.\n",
    "3. 3<5, total earn still = 4.\n",
    "4. 6>3, total earn = 4+3 = 7.\n",
    "5. 4<6, total earn still = 7.\n",
    "Finally, return\n",
    "7. 7 is maximum profit.\n",
    "\n",
    "\n",
    "\n",
    "(add more steps if required)\n",
    "\n",
    "\n",
    "Let's save and upload our work before continuing.\n",
    "\n"
   ]
  },
  {
   "cell_type": "code",
   "execution_count": 34,
   "id": "a27c559c",
   "metadata": {},
   "outputs": [
    {
     "data": {
      "application/javascript": [
       "window.require && require([\"base/js/namespace\"],function(Jupyter){Jupyter.notebook.save_checkpoint()})"
      ],
      "text/plain": [
       "<IPython.core.display.Javascript object>"
      ]
     },
     "metadata": {},
     "output_type": "display_data"
    },
    {
     "name": "stdout",
     "output_type": "stream",
     "text": [
      "[jovian] Updating notebook \"rohan-deshpande/data-structures-course-python\" on https://jovian.ai\u001b[0m\n",
      "[jovian] Committed successfully! https://jovian.ai/rohan-deshpande/data-structures-course-python\u001b[0m\n"
     ]
    },
    {
     "data": {
      "text/plain": [
       "'https://jovian.ai/rohan-deshpande/data-structures-course-python'"
      ]
     },
     "execution_count": 34,
     "metadata": {},
     "output_type": "execute_result"
    }
   ],
   "source": [
    "jovian.commit()"
   ]
  },
  {
   "cell_type": "code",
   "execution_count": null,
   "id": "03731562",
   "metadata": {},
   "outputs": [],
   "source": []
  },
  {
   "cell_type": "code",
   "execution_count": null,
   "id": "32add0b0",
   "metadata": {},
   "outputs": [],
   "source": []
  },
  {
   "cell_type": "code",
   "execution_count": null,
   "id": "9e03a854",
   "metadata": {},
   "outputs": [],
   "source": []
  },
  {
   "cell_type": "markdown",
   "id": "6e3e6046",
   "metadata": {},
   "source": [
    "### 8. Implement the solution and test it using example inputs. Fix bugs, if any."
   ]
  },
  {
   "cell_type": "code",
   "execution_count": 37,
   "id": "4945f4dd",
   "metadata": {},
   "outputs": [],
   "source": [
    "def quicksolution(stock):\n",
    "    totalearn = 0\n",
    "    for i in range(1, len(stock)):\n",
    "        if (stock[i] > stock[i - 1]):\n",
    "            totalearn += stock[i] - stock[i - 1]\n",
    "    return totalearn"
   ]
  },
  {
   "cell_type": "code",
   "execution_count": null,
   "id": "f01a8e07",
   "metadata": {},
   "outputs": [],
   "source": []
  },
  {
   "cell_type": "code",
   "execution_count": null,
   "id": "56bcccc5",
   "metadata": {},
   "outputs": [],
   "source": []
  },
  {
   "cell_type": "code",
   "execution_count": null,
   "id": "f3be9b3a",
   "metadata": {},
   "outputs": [],
   "source": []
  },
  {
   "cell_type": "markdown",
   "id": "c78bfa52",
   "metadata": {},
   "source": [
    "### 9. Analyze the algorithm's complexity and identify inefficiencies, if any."
   ]
  },
  {
   "cell_type": "markdown",
   "id": "c3a3c477",
   "metadata": {},
   "source": [
    "Time complexity is O(n).\n",
    "\n",
    "Space complexity is O\n"
   ]
  },
  {
   "cell_type": "code",
   "execution_count": null,
   "id": "70064348",
   "metadata": {},
   "outputs": [],
   "source": []
  },
  {
   "cell_type": "code",
   "execution_count": null,
   "id": "d8cbee00",
   "metadata": {},
   "outputs": [],
   "source": []
  },
  {
   "cell_type": "markdown",
   "id": "6dc4d9a0",
   "metadata": {},
   "source": [
    "If you found the problem on an external platform, you can make a submission to test your solution.\n",
    "\n",
    "Share your approach and start a discussion on the Jovian forum: https://jovian.ai/forum/c/data-structures-and-algorithms-in-python/78"
   ]
  },
  {
   "cell_type": "code",
   "execution_count": null,
   "id": "d7ca3e7d",
   "metadata": {},
   "outputs": [
    {
     "data": {
      "application/javascript": [
       "window.require && require([\"base/js/namespace\"],function(Jupyter){Jupyter.notebook.save_checkpoint()})"
      ],
      "text/plain": [
       "<IPython.core.display.Javascript object>"
      ]
     },
     "metadata": {},
     "output_type": "display_data"
    }
   ],
   "source": [
    "jovian.commit()"
   ]
  },
  {
   "cell_type": "code",
   "execution_count": null,
   "id": "9f346038",
   "metadata": {},
   "outputs": [],
   "source": []
  }
 ],
 "metadata": {
  "kernelspec": {
   "display_name": "Python 3 (ipykernel)",
   "language": "python",
   "name": "python3"
  },
  "language_info": {
   "codemirror_mode": {
    "name": "ipython",
    "version": 3
   },
   "file_extension": ".py",
   "mimetype": "text/x-python",
   "name": "python",
   "nbconvert_exporter": "python",
   "pygments_lexer": "ipython3",
   "version": "3.9.7"
  }
 },
 "nbformat": 4,
 "nbformat_minor": 5
}
